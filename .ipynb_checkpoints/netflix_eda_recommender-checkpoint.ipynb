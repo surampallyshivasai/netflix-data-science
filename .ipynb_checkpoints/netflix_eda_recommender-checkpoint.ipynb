{
 "cells": [
  {
   "cell_type": "markdown",
   "id": "1b819258",
   "metadata": {},
   "source": [
    "# 📊 Netflix EDA + Recommendation System\n",
    "End-to-end data analysis and content-based recommender system built with Python."
   ]
  },
  {
   "cell_type": "code",
   "execution_count": null,
   "id": "9c6bfef1",
   "metadata": {},
   "outputs": [],
   "source": [
    "\n",
    "# Basic libraries\n",
    "import pandas as pd\n",
    "import numpy as np\n",
    "import matplotlib.pyplot as plt\n",
    "import seaborn as sns\n",
    "\n",
    "# Machine Learning\n",
    "from sklearn.feature_extraction.text import TfidfVectorizer\n",
    "from sklearn.metrics.pairwise import linear_kernel\n",
    "\n",
    "# Settings\n",
    "sns.set(style=\"whitegrid\")\n",
    "plt.rcParams[\"figure.figsize\"] = (10,5)\n"
   ]
  },
  {
   "cell_type": "code",
   "execution_count": null,
   "id": "40beb349",
   "metadata": {},
   "outputs": [],
   "source": [
    "\n",
    "# Replace this with the actual path if needed\n",
    "df = pd.read_csv(\"netflix_titles.csv\")\n",
    "\n",
    "# Quick look\n",
    "df.head()\n"
   ]
  },
  {
   "cell_type": "code",
   "execution_count": null,
   "id": "5172196c",
   "metadata": {},
   "outputs": [],
   "source": [
    "\n",
    "# Check null values\n",
    "df.isnull().sum()\n",
    "\n",
    "# Fill missing values where possible\n",
    "df[\"director\"] = df[\"director\"].fillna(\"Unknown\")\n",
    "df[\"cast\"] = df[\"cast\"].fillna(\"Unknown\")\n",
    "df[\"country\"] = df[\"country\"].fillna(\"Unknown\")\n",
    "df[\"date_added\"] = pd.to_datetime(df[\"date_added\"], errors=\"coerce\")\n",
    "\n",
    "# Drop duplicates\n",
    "df.drop_duplicates(inplace=True)\n"
   ]
  },
  {
   "cell_type": "code",
   "execution_count": null,
   "id": "41441bcb",
   "metadata": {},
   "outputs": [],
   "source": [
    "\n",
    "sns.countplot(data=df, x=\"type\", palette=\"Set2\")\n",
    "plt.title(\"Count of Movies vs TV Shows\")\n",
    "plt.show()\n"
   ]
  },
  {
   "cell_type": "code",
   "execution_count": null,
   "id": "df748d95",
   "metadata": {},
   "outputs": [],
   "source": [
    "\n",
    "df[\"country\"].value_counts().head(10).plot(kind=\"bar\", color=\"coral\")\n",
    "plt.title(\"Top 10 Countries with Most Titles\")\n",
    "plt.ylabel(\"Count\")\n",
    "plt.show()\n"
   ]
  },
  {
   "cell_type": "code",
   "execution_count": null,
   "id": "3d419b91",
   "metadata": {},
   "outputs": [],
   "source": [
    "\n",
    "df[\"year_added\"] = df[\"date_added\"].dt.year\n",
    "df[\"year_added\"].value_counts().sort_index().plot(kind=\"line\", marker=\"o\")\n",
    "plt.title(\"Number of Titles Added Over Time\")\n",
    "plt.xlabel(\"Year\")\n",
    "plt.ylabel(\"Count\")\n",
    "plt.show()\n"
   ]
  },
  {
   "cell_type": "code",
   "execution_count": null,
   "id": "9b6dbccc",
   "metadata": {},
   "outputs": [],
   "source": [
    "\n",
    "# TF-IDF Matrix\n",
    "tfidf = TfidfVectorizer(stop_words=\"english\")\n",
    "df[\"description\"] = df[\"description\"].fillna(\"\")\n",
    "tfidf_matrix = tfidf.fit_transform(df[\"description\"])\n",
    "\n",
    "# Similarity scores\n",
    "cosine_sim = linear_kernel(tfidf_matrix, tfidf_matrix)\n",
    "\n",
    "# Reset index for mapping\n",
    "indices = pd.Series(df.index, index=df[\"title\"]).drop_duplicates()\n"
   ]
  },
  {
   "cell_type": "code",
   "execution_count": null,
   "id": "6379b14d",
   "metadata": {},
   "outputs": [],
   "source": [
    "\n",
    "def recommend(title, cosine_sim=cosine_sim):\n",
    "    if title not in indices:\n",
    "        print(f\"'{title}' not found in dataset!\")\n",
    "        return []\n",
    "    idx = indices[title]\n",
    "    sim_scores = list(enumerate(cosine_sim[idx]))\n",
    "    sim_scores = sorted(sim_scores, key=lambda x: x[1], reverse=True)\n",
    "    sim_scores = sim_scores[1:6]  # Top 5\n",
    "    movie_indices = [i[0] for i in sim_scores]\n",
    "    return df[\"title\"].iloc[movie_indices]\n"
   ]
  },
  {
   "cell_type": "code",
   "execution_count": null,
   "id": "91e12d0b",
   "metadata": {},
   "outputs": [],
   "source": [
    "\n",
    "recommend(\"Narcos\")\n"
   ]
  },
  {
   "cell_type": "code",
   "execution_count": null,
   "id": "d34d11bc",
   "metadata": {},
   "outputs": [],
   "source": [
    "\n",
    "print(\"🔍 Insights:\")\n",
    "print(\"- Netflix has more Movies than TV Shows.\")\n",
    "print(\"- US & India are top content producers.\")\n",
    "print(\"- Peak content addition happened around 2018-2020.\")\n",
    "print(\"- Content-based recommender suggests similar titles using descriptions.\")\n"
   ]
  }
 ],
 "metadata": {
  "kernelspec": {
   "display_name": "Python 3 (ipykernel)",
   "language": "python",
   "name": "python3"
  },
  "language_info": {
   "codemirror_mode": {
    "name": "ipython",
    "version": 3
   },
   "file_extension": ".py",
   "mimetype": "text/x-python",
   "name": "python",
   "nbconvert_exporter": "python",
   "pygments_lexer": "ipython3",
   "version": "3.13.3"
  }
 },
 "nbformat": 4,
 "nbformat_minor": 5
}
